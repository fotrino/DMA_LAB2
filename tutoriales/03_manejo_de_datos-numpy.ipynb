{
  "nbformat": 4,
  "nbformat_minor": 0,
  "metadata": {
    "language_info": {
      "codemirror_mode": {
        "name": "ipython",
        "version": 3
      },
      "file_extension": ".py",
      "mimetype": "text/x-python",
      "name": "python",
      "nbconvert_exporter": "python",
      "pygments_lexer": "ipython3",
      "version": "3.8.3-final"
    },
    "orig_nbformat": 2,
    "kernelspec": {
      "name": "python3",
      "display_name": "Python 3"
    },
    "colab": {
      "name": "03_manejo_de_datos-numpy.ipynb",
      "provenance": [],
      "include_colab_link": true
    }
  },
  "cells": [
    {
      "cell_type": "markdown",
      "metadata": {
        "id": "view-in-github",
        "colab_type": "text"
      },
      "source": [
        "<a href=\"https://colab.research.google.com/github/Argentan/DMA_LAB2/blob/master/tutoriales/03_manejo_de_datos-numpy.ipynb\" target=\"_parent\"><img src=\"https://colab.research.google.com/assets/colab-badge.svg\" alt=\"Open In Colab\"/></a>"
      ]
    },
    {
      "cell_type": "markdown",
      "metadata": {
        "id": "XqMGDUP6xLQ-",
        "colab_type": "text"
      },
      "source": [
        "<a href=\"https://colab.research.google.com/github/Argentan/DMA_LAB2/blob/master/tutoriales/03_manejo_de_datos-numpy.ipynb\" target=\"_parent\"><img src=\"https://colab.research.google.com/assets/colab-badge.svg\" alt=\"Open In Colab\"/></a>"
      ]
    },
    {
      "cell_type": "markdown",
      "metadata": {
        "id": "OsgacXmFyHre",
        "colab_type": "text"
      },
      "source": [
        "# Repaso de Listas"
      ]
    },
    {
      "cell_type": "code",
      "metadata": {
        "id": "0JwB1omFyKc4",
        "colab_type": "code",
        "colab": {}
      },
      "source": [
        "b = [1,2,3]"
      ],
      "execution_count": 1,
      "outputs": []
    },
    {
      "cell_type": "markdown",
      "metadata": {
        "id": "Lugr9KHwyUGZ",
        "colab_type": "text"
      },
      "source": [
        "Aplicando Operadores Matemáticos a Listas"
      ]
    },
    {
      "cell_type": "code",
      "metadata": {
        "id": "2pzuaAdMyMVz",
        "colab_type": "code",
        "colab": {}
      },
      "source": [
        "b + b"
      ],
      "execution_count": 2,
      "outputs": [
        {
          "output_type": "execute_result",
          "data": {
            "text/plain": "[1, 2, 3, 1, 2, 3]"
          },
          "metadata": {},
          "execution_count": 2
        }
      ]
    },
    {
      "cell_type": "code",
      "metadata": {
        "id": "wJfuwm32yP3K",
        "colab_type": "code",
        "colab": {}
      },
      "source": [
        "b * 4"
      ],
      "execution_count": 3,
      "outputs": [
        {
          "output_type": "execute_result",
          "data": {
            "text/plain": "[1, 2, 3, 1, 2, 3, 1, 2, 3, 1, 2, 3]"
          },
          "metadata": {},
          "execution_count": 3
        }
      ]
    },
    {
      "cell_type": "markdown",
      "metadata": {
        "id": "BuLegKfqyXti",
        "colab_type": "text"
      },
      "source": [
        "Solución? For Loops?"
      ]
    },
    {
      "cell_type": "code",
      "metadata": {
        "id": "HzUrLTNkyaEI",
        "colab_type": "code",
        "colab": {},
        "tags": []
      },
      "source": [
        "for elemento in b:\n",
        "    print(elemento)"
      ],
      "execution_count": 4,
      "outputs": [
        {
          "output_type": "stream",
          "name": "stdout",
          "text": "1\n2\n3\n"
        }
      ]
    },
    {
      "cell_type": "code",
      "metadata": {
        "id": "6I8HjEjKyea7",
        "colab_type": "code",
        "colab": {},
        "tags": []
      },
      "source": [
        "for elemento in b:\n",
        "    print(elemento + elemento)"
      ],
      "execution_count": 5,
      "outputs": [
        {
          "output_type": "stream",
          "name": "stdout",
          "text": "2\n4\n6\n"
        }
      ]
    },
    {
      "cell_type": "markdown",
      "metadata": {
        "id": "0JPqEG49yifH",
        "colab_type": "text"
      },
      "source": [
        "Y si lo quiero guardar en otra variable (por ejemplo 'c = b+b')?\n",
        "\n",
        "Una forma es:\n",
        "* Definir un array vacio\n",
        "* recorrer todos los elementos en b\n",
        "* sumarlos entre si y meterlos dentro de una lista ([elemento + elemento])\n",
        "* sumar esta lista a 'c' (**c \\+= algo** es lo mismo que **c = c + algo**)"
      ]
    },
    {
      "cell_type": "code",
      "metadata": {
        "id": "XT--J06nyj0u",
        "colab_type": "code",
        "colab": {}
      },
      "source": [
        "c = []\n",
        "for elemento in b:\n",
        "    c += [elemento + elemento]\n",
        "c"
      ],
      "execution_count": 6,
      "outputs": [
        {
          "output_type": "execute_result",
          "data": {
            "text/plain": "[2, 4, 6]"
          },
          "metadata": {},
          "execution_count": 6
        }
      ]
    },
    {
      "cell_type": "code",
      "metadata": {
        "id": "IAqPnmQUyoW0",
        "colab_type": "code",
        "colab": {}
      },
      "source": [
        "c = []\n",
        "for elemento in b:\n",
        "    c += [elemento * 4]\n",
        "c"
      ],
      "execution_count": 7,
      "outputs": [
        {
          "output_type": "execute_result",
          "data": {
            "text/plain": "[4, 8, 12]"
          },
          "metadata": {},
          "execution_count": 7
        }
      ]
    },
    {
      "cell_type": "markdown",
      "metadata": {
        "id": "_3gakFJLy645",
        "colab_type": "text"
      },
      "source": [
        "Alternativa??"
      ]
    },
    {
      "cell_type": "markdown",
      "metadata": {
        "id": "OBpD3Ve7xLRE",
        "colab_type": "text"
      },
      "source": [
        "# Librería Numpy\n",
        "\n",
        "Es el paquete de arrays mas comunmente usado en Python. La diferencia entre un array y una lista nativa es que el array es continuo en memoria mientras que la lista esta encadenada, haciendo que el array sea mucho mas rapido de leer y, por tanto, la estructura de datos natural para el procesamiento de grandes cantidades de datos"
      ]
    },
    {
      "cell_type": "code",
      "metadata": {
        "id": "D99BOYgHxLRH",
        "colab_type": "code",
        "colab": {}
      },
      "source": [
        "import numpy as np"
      ],
      "execution_count": 8,
      "outputs": []
    },
    {
      "cell_type": "code",
      "metadata": {
        "id": "E7u8knbdxLRP",
        "colab_type": "code",
        "colab": {}
      },
      "source": [
        "arr1 = np.array([1,2,3,4])\n",
        "arr1"
      ],
      "execution_count": 9,
      "outputs": [
        {
          "output_type": "execute_result",
          "data": {
            "text/plain": "array([1, 2, 3, 4])"
          },
          "metadata": {},
          "execution_count": 9
        }
      ]
    },
    {
      "cell_type": "code",
      "metadata": {
        "id": "PoOFReZaxLRW",
        "colab_type": "code",
        "colab": {}
      },
      "source": [
        "type(arr1)"
      ],
      "execution_count": 10,
      "outputs": [
        {
          "output_type": "execute_result",
          "data": {
            "text/plain": "numpy.ndarray"
          },
          "metadata": {},
          "execution_count": 10
        }
      ]
    },
    {
      "cell_type": "code",
      "metadata": {
        "id": "-0haq5JBxLRa",
        "colab_type": "code",
        "colab": {}
      },
      "source": [
        "arr1 + arr1"
      ],
      "execution_count": 11,
      "outputs": [
        {
          "output_type": "execute_result",
          "data": {
            "text/plain": "array([2, 4, 6, 8])"
          },
          "metadata": {},
          "execution_count": 11
        }
      ]
    },
    {
      "cell_type": "code",
      "metadata": {
        "id": "XJMIrfXuxLRi",
        "colab_type": "code",
        "colab": {}
      },
      "source": [
        "arr1 / arr1"
      ],
      "execution_count": 12,
      "outputs": [
        {
          "output_type": "execute_result",
          "data": {
            "text/plain": "array([1., 1., 1., 1.])"
          },
          "metadata": {},
          "execution_count": 12
        }
      ]
    },
    {
      "cell_type": "code",
      "metadata": {
        "id": "RnchQO25xLRr",
        "colab_type": "code",
        "colab": {}
      },
      "source": [
        "arr1 + 100"
      ],
      "execution_count": 13,
      "outputs": [
        {
          "output_type": "execute_result",
          "data": {
            "text/plain": "array([101, 102, 103, 104])"
          },
          "metadata": {},
          "execution_count": 13
        }
      ]
    },
    {
      "cell_type": "markdown",
      "metadata": {
        "id": "An3VYAhU_PAR",
        "colab_type": "text"
      },
      "source": [
        "## Dimensiones\n",
        "\n",
        "Los arrays de numpy pueden ser unidimensionales (1D), bidimensionales (2D) o cuantas dimensiones quieran.\n"
      ]
    },
    {
      "cell_type": "code",
      "metadata": {
        "id": "GLIB9jK4_PAR",
        "colab_type": "code",
        "colab": {}
      },
      "source": [
        "data = np.round( np.random.rand(3,5) * 100 )"
      ],
      "execution_count": 14,
      "outputs": []
    },
    {
      "cell_type": "code",
      "metadata": {
        "id": "zxbAMqfH_PAU",
        "colab_type": "code",
        "colab": {}
      },
      "source": [
        "data"
      ],
      "execution_count": 15,
      "outputs": [
        {
          "output_type": "execute_result",
          "data": {
            "text/plain": "array([[ 84.,  45.,  99.,  10.,  74.],\n       [ 86.,  58.,  78.,  62.,  93.],\n       [ 77., 100.,  44.,  74.,   2.]])"
          },
          "metadata": {},
          "execution_count": 15
        }
      ]
    },
    {
      "cell_type": "code",
      "metadata": {
        "id": "FmWupwhp_PAX",
        "colab_type": "code",
        "colab": {}
      },
      "source": [
        "data * 2"
      ],
      "execution_count": 16,
      "outputs": [
        {
          "output_type": "execute_result",
          "data": {
            "text/plain": "array([[168.,  90., 198.,  20., 148.],\n       [172., 116., 156., 124., 186.],\n       [154., 200.,  88., 148.,   4.]])"
          },
          "metadata": {},
          "execution_count": 16
        }
      ]
    },
    {
      "cell_type": "markdown",
      "metadata": {
        "id": "gM_zQL58_PAc",
        "colab_type": "text"
      },
      "source": [
        "Tamaño de 'data'"
      ]
    },
    {
      "cell_type": "code",
      "metadata": {
        "id": "YMs7J2pM_PAc",
        "colab_type": "code",
        "colab": {}
      },
      "source": [
        "data.shape"
      ],
      "execution_count": 17,
      "outputs": [
        {
          "output_type": "execute_result",
          "data": {
            "text/plain": "(3, 5)"
          },
          "metadata": {},
          "execution_count": 17
        }
      ]
    },
    {
      "cell_type": "markdown",
      "metadata": {
        "id": "FPOowyKpxLR0",
        "colab_type": "text"
      },
      "source": [
        "## Indexado\n",
        "\n",
        "El indexado en los ndarray funciona igual que el indexado de listas\n",
        "\n",
        "Los elementos de una ndarray se pueden acceder mediante su indice\n",
        "\n",
        "* Todos los indices empiezan en 0\n",
        "* Se usan numeros enteros\n",
        "* El indice maximo equivale a la (cantidad de elementos - 1)\n",
        "* Se accede al elemento con *indice*\n",
        "* Si el indice es negativo, se cuenta desde el final\n",
        "* Se puede hacer \"slicing\" con rangos de indices separados por dos puntos (:)\n",
        "* Se pueden usar indices negativos que cuentan desde atrás pero empezando en -1"
      ]
    },
    {
      "cell_type": "code",
      "metadata": {
        "id": "Rp5wPcNExLR2",
        "colab_type": "code",
        "colab": {}
      },
      "source": [
        "arr1[0]"
      ],
      "execution_count": 40,
      "outputs": [
        {
          "output_type": "execute_result",
          "data": {
            "text/plain": "1"
          },
          "metadata": {},
          "execution_count": 40
        }
      ]
    },
    {
      "cell_type": "code",
      "metadata": {
        "id": "ClJghAFvxLR-",
        "colab_type": "code",
        "colab": {}
      },
      "source": [
        "arr1[3]"
      ],
      "execution_count": 41,
      "outputs": [
        {
          "output_type": "execute_result",
          "data": {
            "text/plain": "4"
          },
          "metadata": {},
          "execution_count": 41
        }
      ]
    },
    {
      "cell_type": "code",
      "metadata": {
        "id": "GXBMPBmkxLSF",
        "colab_type": "code",
        "colab": {}
      },
      "source": [
        "arr1[len(arr1)]"
      ],
      "execution_count": 20,
      "outputs": [
        {
          "output_type": "error",
          "ename": "IndexError",
          "evalue": "index 4 is out of bounds for axis 0 with size 4",
          "traceback": [
            "\u001b[0;31m---------------------------------------------------------------------------\u001b[0m",
            "\u001b[0;31mIndexError\u001b[0m                                Traceback (most recent call last)",
            "\u001b[0;32m<ipython-input-20-afd7cfe32612>\u001b[0m in \u001b[0;36m<module>\u001b[0;34m\u001b[0m\n\u001b[0;32m----> 1\u001b[0;31m \u001b[0marr1\u001b[0m\u001b[0;34m[\u001b[0m\u001b[0mlen\u001b[0m\u001b[0;34m(\u001b[0m\u001b[0marr1\u001b[0m\u001b[0;34m)\u001b[0m\u001b[0;34m]\u001b[0m\u001b[0;34m\u001b[0m\u001b[0;34m\u001b[0m\u001b[0m\n\u001b[0m",
            "\u001b[0;31mIndexError\u001b[0m: index 4 is out of bounds for axis 0 with size 4"
          ]
        }
      ]
    },
    {
      "cell_type": "code",
      "metadata": {
        "id": "HNv5-mFOxLSM",
        "colab_type": "code",
        "colab": {}
      },
      "source": [
        "arr1[len(arr1) - 1]"
      ],
      "execution_count": 21,
      "outputs": [
        {
          "output_type": "execute_result",
          "data": {
            "text/plain": "4"
          },
          "metadata": {},
          "execution_count": 21
        }
      ]
    },
    {
      "cell_type": "code",
      "metadata": {
        "id": "3aRTKTMfxLSU",
        "colab_type": "code",
        "colab": {}
      },
      "source": [
        "arr1[-1]"
      ],
      "execution_count": 22,
      "outputs": [
        {
          "output_type": "execute_result",
          "data": {
            "text/plain": "4"
          },
          "metadata": {},
          "execution_count": 22
        }
      ]
    },
    {
      "cell_type": "code",
      "metadata": {
        "id": "-OnL7X7qxLSc",
        "colab_type": "code",
        "colab": {}
      },
      "source": [
        "arr2d = np.array([[1, 2, 3],\n",
        "                  [4, 5, 6],\n",
        "                  [7, 8, 9]])"
      ],
      "execution_count": 23,
      "outputs": []
    },
    {
      "cell_type": "code",
      "metadata": {
        "id": "CdWsf_fPxLSp",
        "colab_type": "code",
        "colab": {}
      },
      "source": [
        "arr2d"
      ],
      "execution_count": 24,
      "outputs": [
        {
          "output_type": "execute_result",
          "data": {
            "text/plain": "array([[1, 2, 3],\n       [4, 5, 6],\n       [7, 8, 9]])"
          },
          "metadata": {},
          "execution_count": 24
        }
      ]
    },
    {
      "cell_type": "code",
      "metadata": {
        "id": "d0BOY-y5xLSv",
        "colab_type": "code",
        "colab": {}
      },
      "source": [
        "arr2d[:1]"
      ],
      "execution_count": 25,
      "outputs": [
        {
          "output_type": "execute_result",
          "data": {
            "text/plain": "array([[1, 2, 3]])"
          },
          "metadata": {},
          "execution_count": 25
        }
      ]
    },
    {
      "cell_type": "code",
      "metadata": {
        "id": "59bha9y-xLS2",
        "colab_type": "code",
        "colab": {}
      },
      "source": [
        "arr2d[:2, :]"
      ],
      "execution_count": 26,
      "outputs": [
        {
          "output_type": "execute_result",
          "data": {
            "text/plain": "array([[1, 2, 3],\n       [4, 5, 6]])"
          },
          "metadata": {},
          "execution_count": 26
        }
      ]
    },
    {
      "cell_type": "code",
      "metadata": {
        "id": "m-EcqOEJxLS5",
        "colab_type": "code",
        "colab": {}
      },
      "source": [
        "arr2d[1, :2]"
      ],
      "execution_count": 27,
      "outputs": [
        {
          "output_type": "execute_result",
          "data": {
            "text/plain": "array([4, 5])"
          },
          "metadata": {},
          "execution_count": 27
        }
      ]
    },
    {
      "cell_type": "code",
      "metadata": {
        "id": "KbO7RdGtxLS8",
        "colab_type": "code",
        "colab": {}
      },
      "source": [
        "arr2d[:, 1]"
      ],
      "execution_count": 28,
      "outputs": [
        {
          "output_type": "execute_result",
          "data": {
            "text/plain": "array([2, 5, 8])"
          },
          "metadata": {},
          "execution_count": 28
        }
      ]
    },
    {
      "cell_type": "markdown",
      "metadata": {
        "id": "aBsjHncpxLTA",
        "colab_type": "text"
      },
      "source": [
        "## Funciones de agregación\n",
        "\n",
        "Suelen expresarse como métodos del objeto array. En general, tienen como consecuencia disminuir las dimensiones del arreglo y son muy utilizados en matemáticas y física. <br>\n",
        "La siguiente tabla muestra los más utilizados, puede encontrar la documentación [aquí](https://docs.scipy.org/doc/numpy-1.13.0/reference/arrays.ndarray.html#calculation).\n",
        "\n",
        "| Operación | Descripción |\n",
        "|:----------|:------------|\n",
        "| `a.sum()`    | Retorna la suma del arreglo en el eje dado |\n",
        "| `a.min()`    | Retorna el valor mínimo de un eje |\n",
        "| `a.mean()`   | Retorna la media aritmética en un eje dado |\n",
        "| `a.var()`    | Retorna la varianza en un eje dado|\n",
        "| `a.std()`    | Retorna la desviación estándar en un eje dado |\n",
        "| `a.prod()`   | Retorna el producto en un eje dado |\n",
        "| `a.argmin()` | Retorna el índice donde ocurren los valores mínimos de cada eje |\n",
        "| `a.ptp()`    | Valor pico a pico en un eje |\n",
        "| `a.conj()`   | Retorna el conjugado complejo de todos los elementos |\n",
        "| `a.round()`  | Retorna el valor redondeado de cada elemento |\n",
        "| `a.trace()`  | Retorna la suma de las diagonales del arreglo |\n",
        "| `a.argmax()` | Retorna el índice donde ocurren los valores máximos de cada eje |\n",
        "| `a.cumsum()` | Retorna la suma acumulativa en un eje dado |\n",
        "| `a.cumprod()`| Retorna el producto acumulativo en un eje dado |"
      ]
    },
    {
      "cell_type": "code",
      "metadata": {
        "id": "sIRZ_CsvxLTA",
        "colab_type": "code",
        "colab": {}
      },
      "source": [
        "arr1.mean()"
      ],
      "execution_count": 29,
      "outputs": [
        {
          "output_type": "execute_result",
          "data": {
            "text/plain": "2.5"
          },
          "metadata": {},
          "execution_count": 29
        }
      ]
    },
    {
      "cell_type": "code",
      "metadata": {
        "id": "MZrPXcATxLTE",
        "colab_type": "code",
        "colab": {}
      },
      "source": [
        "arr1.std()"
      ],
      "execution_count": 30,
      "outputs": [
        {
          "output_type": "execute_result",
          "data": {
            "text/plain": "1.118033988749895"
          },
          "metadata": {},
          "execution_count": 30
        }
      ]
    },
    {
      "cell_type": "code",
      "metadata": {
        "id": "WXIKvNdlxLTH",
        "colab_type": "code",
        "colab": {}
      },
      "source": [
        "arr1.shape"
      ],
      "execution_count": 31,
      "outputs": [
        {
          "output_type": "execute_result",
          "data": {
            "text/plain": "(4,)"
          },
          "metadata": {},
          "execution_count": 31
        }
      ]
    },
    {
      "cell_type": "code",
      "metadata": {
        "id": "pT9GKcSVxLTL",
        "colab_type": "code",
        "colab": {}
      },
      "source": [
        "arr1.size"
      ],
      "execution_count": 32,
      "outputs": [
        {
          "output_type": "execute_result",
          "data": {
            "text/plain": "4"
          },
          "metadata": {},
          "execution_count": 32
        }
      ]
    },
    {
      "cell_type": "code",
      "metadata": {
        "id": "v9DveLnvxLTP",
        "colab_type": "code",
        "colab": {}
      },
      "source": [
        "arr2 = np.ones((2, 3))\n",
        "arr2"
      ],
      "execution_count": 33,
      "outputs": [
        {
          "output_type": "execute_result",
          "data": {
            "text/plain": "array([[1., 1., 1.],\n       [1., 1., 1.]])"
          },
          "metadata": {},
          "execution_count": 33
        }
      ]
    },
    {
      "cell_type": "code",
      "metadata": {
        "id": "4qiq5xJQ8LW6",
        "colab_type": "code",
        "colab": {}
      },
      "source": [
        "arr1.argmax()"
      ],
      "execution_count": 34,
      "outputs": [
        {
          "output_type": "execute_result",
          "data": {
            "text/plain": "3"
          },
          "metadata": {},
          "execution_count": 34
        }
      ]
    },
    {
      "cell_type": "code",
      "metadata": {
        "id": "U83l3jIVxLTS",
        "colab_type": "code",
        "colab": {}
      },
      "source": [
        "arr2.shape"
      ],
      "execution_count": 35,
      "outputs": [
        {
          "output_type": "execute_result",
          "data": {
            "text/plain": "(2, 3)"
          },
          "metadata": {},
          "execution_count": 35
        }
      ]
    },
    {
      "cell_type": "code",
      "metadata": {
        "id": "3bciJC6QxLTW",
        "colab_type": "code",
        "colab": {}
      },
      "source": [
        "arr2.size"
      ],
      "execution_count": 36,
      "outputs": [
        {
          "output_type": "execute_result",
          "data": {
            "text/plain": "6"
          },
          "metadata": {},
          "execution_count": 36
        }
      ]
    },
    {
      "cell_type": "code",
      "metadata": {
        "id": "6v-j-IwDxLTZ",
        "colab_type": "code",
        "colab": {}
      },
      "source": [
        "len(arr2)"
      ],
      "execution_count": 37,
      "outputs": [
        {
          "output_type": "execute_result",
          "data": {
            "text/plain": "2"
          },
          "metadata": {},
          "execution_count": 37
        }
      ]
    },
    {
      "cell_type": "markdown",
      "metadata": {
        "id": "dtsSUUSXxLTd",
        "colab_type": "text"
      },
      "source": [
        "## Funciones universales\n",
        "\n",
        "Son funciones optimizadas que operan sobre el array. Dificilmente vamos a necesitar hacer algo que no este ya implementado, la lista completa de funciones universales en este [enlace](https://docs.scipy.org/doc/numpy-1.13.0/reference/ufuncs.html#math-operations)"
      ]
    },
    {
      "cell_type": "markdown",
      "metadata": {
        "id": "ULGS-Qy6xLTd",
        "colab_type": "text"
      },
      "source": [
        "### Funciones para crear ndarrays\n",
        "\n",
        "Hay muchas formas de crear arreglos en Numpy, puede explorarlas todas en este [enlace](https://docs.scipy.org/doc/numpy-1.13.0/reference/routines.array-creation.html). Las más comunes son:\n",
        "\n",
        "| Función | Descripción |\n",
        "|:--------|:------------|\n",
        "| `empty` | Arreglo vacio |\n",
        "| `zeros` | Arreglo de ceros |\n",
        "| `ones`  | Arreglo de unos |\n",
        "| `full`  | Se especifica un valor para llenar todo el arreglo con él |\n",
        "| `identity` | Unos en la diagonal y cero en el resto |\n",
        "| `array` | Constructor genérico |\n",
        "| `fromfunction` | Según una función dada que retorna un valor para cada punto de la coordenada |\n",
        "| `loadtxt` | Carga los datos de un archivo |"
      ]
    },
    {
      "cell_type": "code",
      "metadata": {
        "id": "3oqmmTcMxLTe",
        "colab_type": "code",
        "colab": {}
      },
      "source": [
        "np.ones(3)"
      ],
      "execution_count": 38,
      "outputs": [
        {
          "output_type": "execute_result",
          "data": {
            "text/plain": "array([1., 1., 1.])"
          },
          "metadata": {},
          "execution_count": 38
        }
      ]
    },
    {
      "cell_type": "code",
      "metadata": {
        "id": "py63Pi48xLTh",
        "colab_type": "code",
        "colab": {}
      },
      "source": [
        "np.full([2,5], fill_value=10)"
      ],
      "execution_count": 39,
      "outputs": [
        {
          "output_type": "execute_result",
          "data": {
            "text/plain": "array([[10, 10, 10, 10, 10],\n       [10, 10, 10, 10, 10]])"
          },
          "metadata": {},
          "execution_count": 39
        }
      ]
    },
    {
      "cell_type": "markdown",
      "metadata": {
        "id": "we6fyUhF4TU8",
        "colab_type": "text"
      },
      "source": [
        "# Ejercicios"
      ]
    },
    {
      "cell_type": "markdown",
      "metadata": {
        "id": "SYvqbJHa4U5b",
        "colab_type": "text"
      },
      "source": [
        "\n",
        "\n",
        "1.   Crear un array de 100 números aleatorios con valores de -100 a +100. \n",
        "\n",
        "\n",
        "\n",
        "\n",
        "\n"
      ]
    },
    {
      "cell_type": "code",
      "metadata": {
        "id": "u5qG2KWP4pel",
        "colab_type": "code",
        "colab": {},
        "tags": []
      },
      "source": [
        "random100 = np.random.randint(-100,101, 100)\n",
        "random100\n"
      ],
      "execution_count": 54,
      "outputs": [
        {
          "output_type": "execute_result",
          "data": {
            "text/plain": "array([ -62,   93,  -35,  -10,   61,  -17,   68,   11,   96,  -89,  -50,\n         87,  -79,  -77,   95,   37,  -18,   47,   50,  -37,  -58,   53,\n        -85,  -30,  -80,   87,   94,  -36,    3,    1,   48,   -6,  -47,\n         39,   59,  -10,   37,  -42,    4,   40,  -64,  -21,   89,   30,\n         57,  -59,   50,   74,    8,  -41,   75,    3,   19,   77,   44,\n         56,   29,   76,   65,  -92,  -56,   36,    8,   57,  -34,  -64,\n         63,   87,   25,   83,  -29,    5,   47,   70,   84,   68,   25,\n        -47,   93,   32,  -86,  -28,   45,  -48,   86,  -95,  -86,   50,\n         -9,   56,   11,   17,   28,   88,    2, -100,  -96,   59,  -90,\n        -35])"
          },
          "metadata": {},
          "execution_count": 54
        }
      ]
    },
    {
      "cell_type": "markdown",
      "metadata": {
        "id": "v1F35TCC4qAv",
        "colab_type": "text"
      },
      "source": [
        "\n",
        "2.   Usando arrays de booleanos crear otros 3 arrays que contengan los positivos, los negativos y los mayores de 50 de ese array."
      ]
    },
    {
      "cell_type": "code",
      "metadata": {
        "id": "yc_DUCQn4q2V",
        "colab_type": "code",
        "colab": {},
        "tags": []
      },
      "source": [
        "positivos = random100 > 0\n",
        "negativos = random100 < 0\n",
        "mayores50 = random100 > 50\n",
        "print(positivos)\n",
        "print(negativos)\n",
        "print(mayores50)"
      ],
      "execution_count": 80,
      "outputs": [
        {
          "output_type": "stream",
          "name": "stdout",
          "text": "[False  True False False  True False  True  True  True False False  True\n False False  True  True False  True  True False False  True False False\n False  True  True False  True  True  True False False  True  True False\n  True False  True  True False False  True  True  True False  True  True\n  True False  True  True  True  True  True  True  True  True  True False\n False  True  True  True False False  True  True  True  True False  True\n  True  True  True  True  True False  True  True False False  True False\n  True False False  True False  True  True  True  True  True  True False\n False  True False False]\n[ True False  True  True False  True False False False  True  True False\n  True  True False False  True False False  True  True False  True  True\n  True False False  True False False False  True  True False False  True\n False  True False False  True  True False False False  True False False\n False  True False False False False False False False False False  True\n  True False False False  True  True False False False False  True False\n False False False False False  True False False  True  True False  True\n False  True  True False  True False False False False False False  True\n  True False  True  True]\n[False  True False False  True False  True False  True False False  True\n False False  True False False False False False False  True False False\n False  True  True False False False False False False False  True False\n False False False False False False  True False  True False False  True\n False False  True False False  True False  True False  True  True False\n False False False  True False False  True  True False  True False False\n False  True  True  True False False  True False False False False False\n  True False False False False  True False False False  True False False\n False  True False False]\n"
        }
      ]
    },
    {
      "cell_type": "markdown",
      "metadata": {
        "id": "zg5a3cB54zgf",
        "colab_type": "text"
      },
      "source": [
        "3.   Crear un array bidimensional 5x5 con todos los valores cero. Usando el indexado de arrays, asigna 1 a todos los elementos de la última fila y 5 a todos los elementos de la primera columna. Finalmente, asigna el valor 100 a todos los elementos del subarray central 3x3 de la matriz de 5x5."
      ]
    },
    {
      "cell_type": "code",
      "metadata": {
        "id": "eNxFHLgI7aAH",
        "colab_type": "code",
        "colab": {}
      },
      "source": [
        "bidi = np.zeros((5,5))\n",
        "bidi[-1] = 1\n",
        "bidi[:,0] = 5\n",
        "bidi[1:4,1:4]=100\n",
        "bidi"
      ],
      "execution_count": 81,
      "outputs": [
        {
          "output_type": "execute_result",
          "data": {
            "text/plain": "array([[  5.,   0.,   0.,   0.,   0.],\n       [  5., 100., 100., 100.,   0.],\n       [  5., 100., 100., 100.,   0.],\n       [  5., 100., 100., 100.,   0.],\n       [  5.,   1.,   1.,   1.,   1.]])"
          },
          "metadata": {},
          "execution_count": 81
        }
      ]
    },
    {
      "cell_type": "markdown",
      "metadata": {
        "id": "K3b5dKsn7jEO",
        "colab_type": "text"
      },
      "source": [
        "4.   Crear una matriz de 10 x 3 con valores aleatorios entre cero y uno\n",
        "\n"
      ]
    },
    {
      "cell_type": "code",
      "metadata": {
        "id": "bXR3mAkY7xJr",
        "colab_type": "code",
        "colab": {}
      },
      "source": [
        "diezportres = np.random.rand(10,3)\n",
        "diezportres\n"
      ],
      "execution_count": 72,
      "outputs": [
        {
          "output_type": "execute_result",
          "data": {
            "text/plain": "array([[0.51947856, 0.15319519, 0.14679645],\n       [0.88845124, 0.75554051, 0.19131059],\n       [0.59076062, 0.45625779, 0.45499205],\n       [0.55692177, 0.31509493, 0.14515657],\n       [0.9288716 , 0.9127031 , 0.86210689],\n       [0.11617338, 0.52371703, 0.0110607 ],\n       [0.02825881, 0.94224564, 0.45963439],\n       [0.48164509, 0.25869103, 0.33627191],\n       [0.84174939, 0.73638476, 0.99745349],\n       [0.10673454, 0.40305361, 0.47312311]])"
          },
          "metadata": {},
          "execution_count": 72
        }
      ]
    },
    {
      "cell_type": "markdown",
      "metadata": {
        "id": "oMjbP0N07xhf",
        "colab_type": "text"
      },
      "source": [
        "\n",
        "5.   Buscar el valor mínimo de la matriz"
      ]
    },
    {
      "cell_type": "code",
      "metadata": {
        "id": "kMBMIAlr73Az",
        "colab_type": "code",
        "colab": {}
      },
      "source": [
        "diezportres.min()"
      ],
      "execution_count": 74,
      "outputs": [
        {
          "output_type": "execute_result",
          "data": {
            "text/plain": "0.011060698650112388"
          },
          "metadata": {},
          "execution_count": 74
        }
      ]
    },
    {
      "cell_type": "markdown",
      "metadata": {
        "id": "XAW8IQgO73WL",
        "colab_type": "text"
      },
      "source": [
        "6.   Buscar la posición (indice) del valor mínimo de la matriz"
      ]
    },
    {
      "cell_type": "code",
      "metadata": {
        "id": "iaMPaBPw77QZ",
        "colab_type": "code",
        "colab": {}
      },
      "source": [
        "diezportres.argmin()"
      ],
      "execution_count": 78,
      "outputs": [
        {
          "output_type": "execute_result",
          "data": {
            "text/plain": "17"
          },
          "metadata": {},
          "execution_count": 78
        }
      ]
    },
    {
      "cell_type": "code",
      "execution_count": 82,
      "metadata": {},
      "outputs": [
        {
          "output_type": "execute_result",
          "data": {
            "text/plain": "(5, 2)"
          },
          "metadata": {},
          "execution_count": 82
        }
      ],
      "source": [
        "np.unravel_index(diezportres.argmin(), diezportres.shape)"
      ]
    },
    {
      "source": [],
      "cell_type": "markdown",
      "metadata": {}
    }
  ]
}