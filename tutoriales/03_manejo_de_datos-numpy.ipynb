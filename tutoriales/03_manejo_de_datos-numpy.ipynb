{
 "metadata": {
  "language_info": {
   "codemirror_mode": {
    "name": "ipython",
    "version": 3
   },
   "file_extension": ".py",
   "mimetype": "text/x-python",
   "name": "python",
   "nbconvert_exporter": "python",
   "pygments_lexer": "ipython3",
   "version": "3.7.9-final"
  },
  "orig_nbformat": 2,
  "kernelspec": {
   "name": "python3",
   "display_name": "Python 3"
  }
 },
 "nbformat": 4,
 "nbformat_minor": 2,
 "cells": [
  {
   "source": [
    "<a href=\"https://colab.research.google.com/github/Argentan/DMA_LAB2/blob/master/tutoriales/03_manejo_de_datos-numpy.ipynb\" target=\"_parent\"><img src=\"https://colab.research.google.com/assets/colab-badge.svg\" alt=\"Open In Colab\"/></a>"
   ],
   "cell_type": "markdown",
   "metadata": {}
  },
  {
   "source": [
    "# Librería Numpy\n",
    "\n",
    "Es el paquete de arrays mas comunmente usado en Python. La diferencia entre un array y una lista nativa es que el array es continuo en memoria mientras que la lista esta encadenada, haciendo que el array sea mucho mas rapido de leer y, por tanto, la estructura de datos natural para el procesamiento de grandes cantidades de datos"
   ],
   "cell_type": "markdown",
   "metadata": {}
  },
  {
   "cell_type": "code",
   "execution_count": 1,
   "metadata": {},
   "outputs": [],
   "source": [
    "import numpy as np"
   ]
  },
  {
   "cell_type": "code",
   "execution_count": 2,
   "metadata": {},
   "outputs": [
    {
     "output_type": "execute_result",
     "data": {
      "text/plain": "array([1, 2, 3, 4])"
     },
     "metadata": {},
     "execution_count": 2
    }
   ],
   "source": [
    "arr1 = np.array([1,2,3,4])\n",
    "arr1"
   ]
  },
  {
   "cell_type": "code",
   "execution_count": 3,
   "metadata": {},
   "outputs": [
    {
     "output_type": "execute_result",
     "data": {
      "text/plain": "numpy.ndarray"
     },
     "metadata": {},
     "execution_count": 3
    }
   ],
   "source": [
    "type(arr1)"
   ]
  },
  {
   "cell_type": "code",
   "execution_count": 4,
   "metadata": {},
   "outputs": [
    {
     "output_type": "execute_result",
     "data": {
      "text/plain": "array([2, 4, 6, 8])"
     },
     "metadata": {},
     "execution_count": 4
    }
   ],
   "source": [
    "arr1 + arr1"
   ]
  },
  {
   "cell_type": "code",
   "execution_count": 6,
   "metadata": {},
   "outputs": [
    {
     "output_type": "execute_result",
     "data": {
      "text/plain": "array([1., 1., 1., 1.])"
     },
     "metadata": {},
     "execution_count": 6
    }
   ],
   "source": [
    "arr1 / arr1"
   ]
  },
  {
   "cell_type": "code",
   "execution_count": 8,
   "metadata": {},
   "outputs": [
    {
     "output_type": "execute_result",
     "data": {
      "text/plain": "array([101, 102, 103, 104])"
     },
     "metadata": {},
     "execution_count": 8
    }
   ],
   "source": [
    "arr1 + 100"
   ]
  },
  {
   "source": [
    "## Indexado\n",
    "\n",
    "El indexado en los ndarray funciona igual que el indexado de listas\n",
    "\n",
    "Los elementos de una ndarray se pueden acceder mediante su indice\n",
    "\n",
    "* Todos los indices empiezan en 0\n",
    "* Se usan numeros enteros\n",
    "* El indice maximo equivale a la (cantidad de elementos - 1)\n",
    "* Se accede al elemento con *indice*\n",
    "* Si el indice es negativo, se cuenta desde el final\n",
    "* Se puede hacer \"slicing\" con rangos de indices separados por dos puntos (:)\n",
    "* Se pueden usar indices negativos que cuentan desde atrás pero empezando en -1"
   ],
   "cell_type": "markdown",
   "metadata": {}
  },
  {
   "cell_type": "code",
   "execution_count": 14,
   "metadata": {},
   "outputs": [
    {
     "output_type": "execute_result",
     "data": {
      "text/plain": "1"
     },
     "metadata": {},
     "execution_count": 14
    }
   ],
   "source": [
    "arr1[0]"
   ]
  },
  {
   "cell_type": "code",
   "execution_count": 15,
   "metadata": {},
   "outputs": [
    {
     "output_type": "execute_result",
     "data": {
      "text/plain": "4"
     },
     "metadata": {},
     "execution_count": 15
    }
   ],
   "source": [
    "arr1[3]"
   ]
  },
  {
   "cell_type": "code",
   "execution_count": 12,
   "metadata": {},
   "outputs": [
    {
     "output_type": "error",
     "ename": "IndexError",
     "evalue": "index 4 is out of bounds for axis 0 with size 4",
     "traceback": [
      "\u001b[1;31m---------------------------------------------------------------------------\u001b[0m",
      "\u001b[1;31mIndexError\u001b[0m                                Traceback (most recent call last)",
      "\u001b[1;32m<ipython-input-12-afd7cfe32612>\u001b[0m in \u001b[0;36m<module>\u001b[1;34m\u001b[0m\n\u001b[1;32m----> 1\u001b[1;33m \u001b[0marr1\u001b[0m\u001b[1;33m[\u001b[0m\u001b[0mlen\u001b[0m\u001b[1;33m(\u001b[0m\u001b[0marr1\u001b[0m\u001b[1;33m)\u001b[0m\u001b[1;33m]\u001b[0m\u001b[1;33m\u001b[0m\u001b[1;33m\u001b[0m\u001b[0m\n\u001b[0m",
      "\u001b[1;31mIndexError\u001b[0m: index 4 is out of bounds for axis 0 with size 4"
     ]
    }
   ],
   "source": [
    "arr1[len(arr1)]"
   ]
  },
  {
   "cell_type": "code",
   "execution_count": 13,
   "metadata": {},
   "outputs": [
    {
     "output_type": "execute_result",
     "data": {
      "text/plain": "4"
     },
     "metadata": {},
     "execution_count": 13
    }
   ],
   "source": [
    "arr1[len(arr1) - 1]"
   ]
  },
  {
   "cell_type": "code",
   "execution_count": 18,
   "metadata": {},
   "outputs": [
    {
     "output_type": "execute_result",
     "data": {
      "text/plain": "4"
     },
     "metadata": {},
     "execution_count": 18
    }
   ],
   "source": [
    "arr1[-1] #equivalente al anterior, se ve porque se empieza en -1, además de que el 0 esta tomado"
   ]
  },
  {
   "cell_type": "code",
   "execution_count": 37,
   "metadata": {},
   "outputs": [],
   "source": [
    "arr2d = np.array([[1, 2, 3],\n",
    "                  [4, 5, 6],\n",
    "                  [7, 8, 9]])"
   ]
  },
  {
   "cell_type": "code",
   "execution_count": 38,
   "metadata": {},
   "outputs": [
    {
     "output_type": "execute_result",
     "data": {
      "text/plain": "array([[1, 2, 3],\n       [4, 5, 6],\n       [7, 8, 9]])"
     },
     "metadata": {},
     "execution_count": 38
    }
   ],
   "source": [
    "arr2d"
   ]
  },
  {
   "cell_type": "code",
   "execution_count": 39,
   "metadata": {},
   "outputs": [
    {
     "output_type": "execute_result",
     "data": {
      "text/plain": "array([[1, 2, 3]])"
     },
     "metadata": {},
     "execution_count": 39
    }
   ],
   "source": [
    "arr2d[:1]"
   ]
  },
  {
   "cell_type": "code",
   "execution_count": 40,
   "metadata": {},
   "outputs": [
    {
     "output_type": "execute_result",
     "data": {
      "text/plain": "array([[1, 2, 3],\n       [4, 5, 6]])"
     },
     "metadata": {},
     "execution_count": 40
    }
   ],
   "source": [
    "arr2d[:2, :]"
   ]
  },
  {
   "cell_type": "code",
   "execution_count": 41,
   "metadata": {},
   "outputs": [
    {
     "output_type": "execute_result",
     "data": {
      "text/plain": "array([4, 5])"
     },
     "metadata": {},
     "execution_count": 41
    }
   ],
   "source": [
    "arr2d[1, :2]"
   ]
  },
  {
   "cell_type": "code",
   "execution_count": 42,
   "metadata": {},
   "outputs": [
    {
     "output_type": "execute_result",
     "data": {
      "text/plain": "array([2, 5, 8])"
     },
     "metadata": {},
     "execution_count": 42
    }
   ],
   "source": [
    "arr2d[:, 1]"
   ]
  },
  {
   "source": [
    "### Funciones de agregación\n",
    "\n",
    "Suelen expresarse como métodos del objeto array. En general, tienen como consecuencia disminuir las dimensiones del arreglo y son muy utilizados en matemáticas y física. <br>\n",
    "La siguiente tabla muestra los más utilizados, puede encontrar la documentación [aquí](https://docs.scipy.org/doc/numpy-1.13.0/reference/arrays.ndarray.html#calculation).\n",
    "\n",
    "| Operación | Descripción |\n",
    "|:----------|:------------|\n",
    "| `a.sum()`    | Retorna la suma del arreglo en el eje dado |\n",
    "| `a.min()`    | Retorna el valor mínimo de un eje |\n",
    "| `a.mean()`   | Retorna la media aritmética en un eje dado |\n",
    "| `a.var()`    | Retorna la varianza en un eje dado|\n",
    "| `a.std()`    | Retorna la desviación estándar en un eje dado |\n",
    "| `a.prod()`   | Retorna el producto en un eje dado |\n",
    "| `a.argmin()` | Retorna el índice donde ocurren los valores mínimos de cada eje |\n",
    "| `a.ptp()`    | Valor pico a pico en un eje |\n",
    "| `a.conj()`   | Retorna el conjugado complejo de todos los elementos |\n",
    "| `a.round()`  | Retorna el valor redondeado de cada elemento |\n",
    "| `a.trace()`  | Retorna la suma de las diagonales del arreglo |\n",
    "| `a.argmax()` | Retorna el índice donde ocurren los valores máximos de cada eje |\n",
    "| `a.cumsum()` | Retorna la suma acumulativa en un eje dado |\n",
    "| `a.cumprod()`| Retorna el producto acumulativo en un eje dado |"
   ],
   "cell_type": "markdown",
   "metadata": {}
  },
  {
   "cell_type": "code",
   "execution_count": 19,
   "metadata": {},
   "outputs": [
    {
     "output_type": "execute_result",
     "data": {
      "text/plain": "2.5"
     },
     "metadata": {},
     "execution_count": 19
    }
   ],
   "source": [
    "arr1.mean()"
   ]
  },
  {
   "cell_type": "code",
   "execution_count": 36,
   "metadata": {},
   "outputs": [
    {
     "output_type": "execute_result",
     "data": {
      "text/plain": "1.118033988749895"
     },
     "metadata": {},
     "execution_count": 36
    }
   ],
   "source": [
    "arr1.std()"
   ]
  },
  {
   "cell_type": "code",
   "execution_count": 21,
   "metadata": {},
   "outputs": [
    {
     "output_type": "execute_result",
     "data": {
      "text/plain": "(4,)"
     },
     "metadata": {},
     "execution_count": 21
    }
   ],
   "source": [
    "arr1.shape"
   ]
  },
  {
   "cell_type": "code",
   "execution_count": 22,
   "metadata": {},
   "outputs": [
    {
     "output_type": "execute_result",
     "data": {
      "text/plain": "4"
     },
     "metadata": {},
     "execution_count": 22
    }
   ],
   "source": [
    "arr1.size"
   ]
  },
  {
   "cell_type": "code",
   "execution_count": 29,
   "metadata": {},
   "outputs": [
    {
     "output_type": "execute_result",
     "data": {
      "text/plain": "array([[1., 1., 1.],\n       [1., 1., 1.]])"
     },
     "metadata": {},
     "execution_count": 29
    }
   ],
   "source": [
    "arr2 = np.ones((2, 3))\n",
    "arr2"
   ]
  },
  {
   "cell_type": "code",
   "execution_count": 30,
   "metadata": {},
   "outputs": [
    {
     "output_type": "execute_result",
     "data": {
      "text/plain": "(2, 3)"
     },
     "metadata": {},
     "execution_count": 30
    }
   ],
   "source": [
    "arr2.shape"
   ]
  },
  {
   "cell_type": "code",
   "execution_count": 31,
   "metadata": {},
   "outputs": [
    {
     "output_type": "execute_result",
     "data": {
      "text/plain": "6"
     },
     "metadata": {},
     "execution_count": 31
    }
   ],
   "source": [
    "arr2.size"
   ]
  },
  {
   "cell_type": "code",
   "execution_count": 32,
   "metadata": {},
   "outputs": [
    {
     "output_type": "execute_result",
     "data": {
      "text/plain": "2"
     },
     "metadata": {},
     "execution_count": 32
    }
   ],
   "source": [
    "len(arr2)"
   ]
  },
  {
   "source": [
    "### Funciones universales\n",
    "\n",
    "Son funciones optimizadas que operan sobre el array. Dificilmente vamos a necesitar hacer algo que no este ya implementado, la lista completa de funciones universales en este [enlace](https://docs.scipy.org/doc/numpy-1.13.0/reference/ufuncs.html#math-operations)"
   ],
   "cell_type": "markdown",
   "metadata": {}
  },
  {
   "source": [
    "### Funciones para crear ndarrays\n",
    "\n",
    "Hay muchas formas de crear arreglos en Numpy, puede explorarlas todas en este [enlace](https://docs.scipy.org/doc/numpy-1.13.0/reference/routines.array-creation.html). Las más comunes son:\n",
    "\n",
    "| Función | Descripción |\n",
    "|:--------|:------------|\n",
    "| `empty` | Arreglo vacio |\n",
    "| `zeros` | Arreglo de ceros |\n",
    "| `ones`  | Arreglo de unos |\n",
    "| `full`  | Se especifica un valor para llenar todo el arreglo con él |\n",
    "| `identity` | Unos en la diagonal y cero en el resto |\n",
    "| `array` | Constructor genérico |\n",
    "| `fromfunction` | Según una función dada que retorna un valor para cada punto de la coordenada |\n",
    "| `loadtxt` | Carga los datos de un archivo |"
   ],
   "cell_type": "markdown",
   "metadata": {}
  },
  {
   "cell_type": "code",
   "execution_count": 33,
   "metadata": {},
   "outputs": [
    {
     "output_type": "execute_result",
     "data": {
      "text/plain": "array([1., 1., 1.])"
     },
     "metadata": {},
     "execution_count": 33
    }
   ],
   "source": [
    "np.ones(3)"
   ]
  },
  {
   "cell_type": "code",
   "execution_count": 34,
   "metadata": {},
   "outputs": [
    {
     "output_type": "execute_result",
     "data": {
      "text/plain": "array([[10, 10, 10, 10, 10],\n       [10, 10, 10, 10, 10]])"
     },
     "metadata": {},
     "execution_count": 34
    }
   ],
   "source": [
    "np.full([2,5], fill_value=10)"
   ]
  },
  {
   "cell_type": "code",
   "execution_count": null,
   "metadata": {},
   "outputs": [],
   "source": []
  }
 ]
}