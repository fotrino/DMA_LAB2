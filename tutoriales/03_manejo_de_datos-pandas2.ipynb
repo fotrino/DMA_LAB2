{
 "metadata": {
  "language_info": {
   "codemirror_mode": {
    "name": "ipython",
    "version": 3
   },
   "file_extension": ".py",
   "mimetype": "text/x-python",
   "name": "python",
   "nbconvert_exporter": "python",
   "pygments_lexer": "ipython3",
   "version": "3.7.9-final"
  },
  "orig_nbformat": 2,
  "kernelspec": {
   "name": "python3",
   "display_name": "Python 3"
  }
 },
 "nbformat": 4,
 "nbformat_minor": 2,
 "cells": [
  {
   "source": [
    "\n",
    "<a href=\"https://colab.research.google.com/github/Argentan/DMA_LAB2/blob/master/tutoriales/03_manejo_de_datos-pandas2.ipynb\" target=\"_parent\"><img src=\"https://colab.research.google.com/assets/colab-badge.svg\" alt=\"Open In Colab\"/></a>\n"
   ],
   "cell_type": "markdown",
   "metadata": {}
  },
  {
   "source": [
    "## Pandas 2\n",
    "\n",
    "### Agrupaciones\n",
    "\n",
    "Las agrupaciones sirven para hacer cálculos sobre subconjuntos de los datos, generalmente tienen tres partes:\n",
    "\n",
    "1. Definir los grupos\n",
    "2. Aplicar un cálculo\n",
    "3. Combinar los resultados\n"
   ],
   "cell_type": "markdown",
   "metadata": {}
  },
  {
   "cell_type": "code",
   "execution_count": 4,
   "metadata": {},
   "outputs": [],
   "source": [
    "import numpy as np\n",
    "import pandas as pd"
   ]
  },
  {
   "cell_type": "code",
   "execution_count": 14,
   "metadata": {},
   "outputs": [
    {
     "output_type": "execute_result",
     "data": {
      "text/plain": "<pandas.core.groupby.generic.DataFrameGroupBy object at 0x00000176B622FE48>"
     },
     "metadata": {},
     "execution_count": 14
    }
   ],
   "source": [
    "data = pd.read_csv(\"../data/titanic.csv\", index_col=\"PassengerId\")\n",
    "data['NumFam'] = data[['SibSp', 'Parch']].sum(axis=1)\n",
    "agrupado = data.groupby([\"Pclass\", \"Sex\"])\n",
    "agrupado"
   ]
  },
  {
   "cell_type": "code",
   "execution_count": 2,
   "metadata": {},
   "outputs": [
    {
     "output_type": "execute_result",
     "data": {
      "text/plain": "Pclass  Sex   \n1       female    0.968085\n        male      0.368852\n2       female    0.921053\n        male      0.157407\n3       female    0.500000\n        male      0.135447\nName: Survived, dtype: float64"
     },
     "metadata": {},
     "execution_count": 2
    }
   ],
   "source": [
    "agrupado.Survived.mean()"
   ]
  },
  {
   "cell_type": "code",
   "execution_count": 11,
   "metadata": {},
   "outputs": [
    {
     "output_type": "execute_result",
     "data": {
      "text/plain": "                  media   media_2  varianza  cantidad  cant2\nPclass Sex                                                  \n1      female  0.968085  0.968085  0.031229        94     94\n       male    0.368852  0.368852  0.234724       122    122\n2      female  0.921053  0.921053  0.073684        76     76\n       male    0.157407  0.157407  0.133870       108    108\n3      female  0.500000  0.500000  0.251748       144    144\n       male    0.135447  0.135447  0.117439       347    347",
      "text/html": "<div>\n<style scoped>\n    .dataframe tbody tr th:only-of-type {\n        vertical-align: middle;\n    }\n\n    .dataframe tbody tr th {\n        vertical-align: top;\n    }\n\n    .dataframe thead th {\n        text-align: right;\n    }\n</style>\n<table border=\"1\" class=\"dataframe\">\n  <thead>\n    <tr style=\"text-align: right;\">\n      <th></th>\n      <th></th>\n      <th>media</th>\n      <th>media_2</th>\n      <th>varianza</th>\n      <th>cantidad</th>\n      <th>cant2</th>\n    </tr>\n    <tr>\n      <th>Pclass</th>\n      <th>Sex</th>\n      <th></th>\n      <th></th>\n      <th></th>\n      <th></th>\n      <th></th>\n    </tr>\n  </thead>\n  <tbody>\n    <tr>\n      <th rowspan=\"2\" valign=\"top\">1</th>\n      <th>female</th>\n      <td>0.968085</td>\n      <td>0.968085</td>\n      <td>0.031229</td>\n      <td>94</td>\n      <td>94</td>\n    </tr>\n    <tr>\n      <th>male</th>\n      <td>0.368852</td>\n      <td>0.368852</td>\n      <td>0.234724</td>\n      <td>122</td>\n      <td>122</td>\n    </tr>\n    <tr>\n      <th rowspan=\"2\" valign=\"top\">2</th>\n      <th>female</th>\n      <td>0.921053</td>\n      <td>0.921053</td>\n      <td>0.073684</td>\n      <td>76</td>\n      <td>76</td>\n    </tr>\n    <tr>\n      <th>male</th>\n      <td>0.157407</td>\n      <td>0.157407</td>\n      <td>0.133870</td>\n      <td>108</td>\n      <td>108</td>\n    </tr>\n    <tr>\n      <th rowspan=\"2\" valign=\"top\">3</th>\n      <th>female</th>\n      <td>0.500000</td>\n      <td>0.500000</td>\n      <td>0.251748</td>\n      <td>144</td>\n      <td>144</td>\n    </tr>\n    <tr>\n      <th>male</th>\n      <td>0.135447</td>\n      <td>0.135447</td>\n      <td>0.117439</td>\n      <td>347</td>\n      <td>347</td>\n    </tr>\n  </tbody>\n</table>\n</div>"
     },
     "metadata": {},
     "execution_count": 11
    }
   ],
   "source": [
    "agrupado.Survived.agg(\n",
    "    media=\"mean\",\n",
    "    media_2= np.mean,\n",
    "    varianza= \"var\",\n",
    "    cantidad= \"count\",\n",
    "    cant2= len\n",
    ")"
   ]
  },
  {
   "cell_type": "code",
   "execution_count": 15,
   "metadata": {},
   "outputs": [
    {
     "output_type": "execute_result",
     "data": {
      "text/plain": "                Age     SibSp     Parch    NumFam       Fare\nSurvived                                                    \n0         30.626179  0.553734  0.329690  0.883424  22.117887\n1         28.343690  0.473684  0.464912  0.938596  48.395408",
      "text/html": "<div>\n<style scoped>\n    .dataframe tbody tr th:only-of-type {\n        vertical-align: middle;\n    }\n\n    .dataframe tbody tr th {\n        vertical-align: top;\n    }\n\n    .dataframe thead th {\n        text-align: right;\n    }\n</style>\n<table border=\"1\" class=\"dataframe\">\n  <thead>\n    <tr style=\"text-align: right;\">\n      <th></th>\n      <th>Age</th>\n      <th>SibSp</th>\n      <th>Parch</th>\n      <th>NumFam</th>\n      <th>Fare</th>\n    </tr>\n    <tr>\n      <th>Survived</th>\n      <th></th>\n      <th></th>\n      <th></th>\n      <th></th>\n      <th></th>\n    </tr>\n  </thead>\n  <tbody>\n    <tr>\n      <th>0</th>\n      <td>30.626179</td>\n      <td>0.553734</td>\n      <td>0.329690</td>\n      <td>0.883424</td>\n      <td>22.117887</td>\n    </tr>\n    <tr>\n      <th>1</th>\n      <td>28.343690</td>\n      <td>0.473684</td>\n      <td>0.464912</td>\n      <td>0.938596</td>\n      <td>48.395408</td>\n    </tr>\n  </tbody>\n</table>\n</div>"
     },
     "metadata": {},
     "execution_count": 15
    }
   ],
   "source": [
    "data.groupby(\"Survived\")[['Age', 'SibSp', 'Parch', 'NumFam', 'Fare']].mean()"
   ]
  },
  {
   "source": [
    "## Tablas de contingencia\n",
    "\n",
    "Las tablas de contingencia asemejan las tablas dinámicas de excel, sirven apra ver inteacciones entre variables\n",
    "\n"
   ],
   "cell_type": "markdown",
   "metadata": {}
  },
  {
   "cell_type": "code",
   "execution_count": 19,
   "metadata": {},
   "outputs": [
    {
     "output_type": "execute_result",
     "data": {
      "text/plain": "Survived    0    1\nAge               \nFalse     424  290\nTrue      125   52",
      "text/html": "<div>\n<style scoped>\n    .dataframe tbody tr th:only-of-type {\n        vertical-align: middle;\n    }\n\n    .dataframe tbody tr th {\n        vertical-align: top;\n    }\n\n    .dataframe thead th {\n        text-align: right;\n    }\n</style>\n<table border=\"1\" class=\"dataframe\">\n  <thead>\n    <tr style=\"text-align: right;\">\n      <th>Survived</th>\n      <th>0</th>\n      <th>1</th>\n    </tr>\n    <tr>\n      <th>Age</th>\n      <th></th>\n      <th></th>\n    </tr>\n  </thead>\n  <tbody>\n    <tr>\n      <th>False</th>\n      <td>424</td>\n      <td>290</td>\n    </tr>\n    <tr>\n      <th>True</th>\n      <td>125</td>\n      <td>52</td>\n    </tr>\n  </tbody>\n</table>\n</div>"
     },
     "metadata": {},
     "execution_count": 19
    }
   ],
   "source": [
    "pd.crosstab(data.Age.isnull(), data.Survived)"
   ]
  },
  {
   "cell_type": "code",
   "execution_count": 20,
   "metadata": {},
   "outputs": [
    {
     "output_type": "execute_result",
     "data": {
      "text/plain": "Survived         0         1\nAge                         \nFalse     0.593838  0.406162\nTrue      0.706215  0.293785",
      "text/html": "<div>\n<style scoped>\n    .dataframe tbody tr th:only-of-type {\n        vertical-align: middle;\n    }\n\n    .dataframe tbody tr th {\n        vertical-align: top;\n    }\n\n    .dataframe thead th {\n        text-align: right;\n    }\n</style>\n<table border=\"1\" class=\"dataframe\">\n  <thead>\n    <tr style=\"text-align: right;\">\n      <th>Survived</th>\n      <th>0</th>\n      <th>1</th>\n    </tr>\n    <tr>\n      <th>Age</th>\n      <th></th>\n      <th></th>\n    </tr>\n  </thead>\n  <tbody>\n    <tr>\n      <th>False</th>\n      <td>0.593838</td>\n      <td>0.406162</td>\n    </tr>\n    <tr>\n      <th>True</th>\n      <td>0.706215</td>\n      <td>0.293785</td>\n    </tr>\n  </tbody>\n</table>\n</div>"
     },
     "metadata": {},
     "execution_count": 20
    }
   ],
   "source": [
    "pd.crosstab(data.Age.isnull(), data.Survived).apply(lambda x: x/x.sum(), axis=1)"
   ]
  },
  {
   "cell_type": "code",
   "execution_count": 22,
   "metadata": {},
   "outputs": [
    {
     "output_type": "execute_result",
     "data": {
      "text/plain": "Survived          0          1\nPclass                        \n1         64.684008  95.608029\n2         19.412328  22.055700\n3         13.669364  13.694887",
      "text/html": "<div>\n<style scoped>\n    .dataframe tbody tr th:only-of-type {\n        vertical-align: middle;\n    }\n\n    .dataframe tbody tr th {\n        vertical-align: top;\n    }\n\n    .dataframe thead th {\n        text-align: right;\n    }\n</style>\n<table border=\"1\" class=\"dataframe\">\n  <thead>\n    <tr style=\"text-align: right;\">\n      <th>Survived</th>\n      <th>0</th>\n      <th>1</th>\n    </tr>\n    <tr>\n      <th>Pclass</th>\n      <th></th>\n      <th></th>\n    </tr>\n  </thead>\n  <tbody>\n    <tr>\n      <th>1</th>\n      <td>64.684008</td>\n      <td>95.608029</td>\n    </tr>\n    <tr>\n      <th>2</th>\n      <td>19.412328</td>\n      <td>22.055700</td>\n    </tr>\n    <tr>\n      <th>3</th>\n      <td>13.669364</td>\n      <td>13.694887</td>\n    </tr>\n  </tbody>\n</table>\n</div>"
     },
     "metadata": {},
     "execution_count": 22
    }
   ],
   "source": [
    "pd.crosstab(data.Pclass, data.Survived, values=data.Fare, aggfunc=np.mean)"
   ]
  },
  {
   "cell_type": "code",
   "execution_count": 23,
   "metadata": {},
   "outputs": [
    {
     "output_type": "execute_result",
     "data": {
      "text/plain": "Sex              female      male\nAge                              \n(0.419, 14.0]  0.631579  0.538462\n(14.0, 19.0]   0.783784  0.100000\n(19.0, 22.0]   0.666667  0.108696\n(22.0, 25.0]   0.769231  0.136364\n(25.0, 28.0]   0.722222  0.255814\n(28.0, 31.8]   0.730769  0.175000\n(31.8, 36.0]   0.965517  0.258065\n(36.0, 41.0]   0.681818  0.129032\n(41.0, 50.0]   0.703704  0.235294\n(50.0, 80.0]   0.941176  0.127660",
      "text/html": "<div>\n<style scoped>\n    .dataframe tbody tr th:only-of-type {\n        vertical-align: middle;\n    }\n\n    .dataframe tbody tr th {\n        vertical-align: top;\n    }\n\n    .dataframe thead th {\n        text-align: right;\n    }\n</style>\n<table border=\"1\" class=\"dataframe\">\n  <thead>\n    <tr style=\"text-align: right;\">\n      <th>Sex</th>\n      <th>female</th>\n      <th>male</th>\n    </tr>\n    <tr>\n      <th>Age</th>\n      <th></th>\n      <th></th>\n    </tr>\n  </thead>\n  <tbody>\n    <tr>\n      <th>(0.419, 14.0]</th>\n      <td>0.631579</td>\n      <td>0.538462</td>\n    </tr>\n    <tr>\n      <th>(14.0, 19.0]</th>\n      <td>0.783784</td>\n      <td>0.100000</td>\n    </tr>\n    <tr>\n      <th>(19.0, 22.0]</th>\n      <td>0.666667</td>\n      <td>0.108696</td>\n    </tr>\n    <tr>\n      <th>(22.0, 25.0]</th>\n      <td>0.769231</td>\n      <td>0.136364</td>\n    </tr>\n    <tr>\n      <th>(25.0, 28.0]</th>\n      <td>0.722222</td>\n      <td>0.255814</td>\n    </tr>\n    <tr>\n      <th>(28.0, 31.8]</th>\n      <td>0.730769</td>\n      <td>0.175000</td>\n    </tr>\n    <tr>\n      <th>(31.8, 36.0]</th>\n      <td>0.965517</td>\n      <td>0.258065</td>\n    </tr>\n    <tr>\n      <th>(36.0, 41.0]</th>\n      <td>0.681818</td>\n      <td>0.129032</td>\n    </tr>\n    <tr>\n      <th>(41.0, 50.0]</th>\n      <td>0.703704</td>\n      <td>0.235294</td>\n    </tr>\n    <tr>\n      <th>(50.0, 80.0]</th>\n      <td>0.941176</td>\n      <td>0.127660</td>\n    </tr>\n  </tbody>\n</table>\n</div>"
     },
     "metadata": {},
     "execution_count": 23
    }
   ],
   "source": [
    "pd.crosstab(pd.qcut(data.Age, 10), data.Sex, values=data.Survived, aggfunc=np.mean)"
   ]
  },
  {
   "cell_type": "code",
   "execution_count": 25,
   "metadata": {},
   "outputs": [
    {
     "output_type": "execute_result",
     "data": {
      "text/plain": "Sex         female      male\nAge                         \n(0, 10]   0.612903  0.575758\n(10, 20]  0.739130  0.144928\n(20, 30]  0.753086  0.154362\n(30, 40]  0.836364  0.230000\n(40, 50]  0.677419  0.218182\n(50, 60]  0.928571  0.142857\n(60, 70]  1.000000  0.071429\n(70, 80]       NaN  0.200000",
      "text/html": "<div>\n<style scoped>\n    .dataframe tbody tr th:only-of-type {\n        vertical-align: middle;\n    }\n\n    .dataframe tbody tr th {\n        vertical-align: top;\n    }\n\n    .dataframe thead th {\n        text-align: right;\n    }\n</style>\n<table border=\"1\" class=\"dataframe\">\n  <thead>\n    <tr style=\"text-align: right;\">\n      <th>Sex</th>\n      <th>female</th>\n      <th>male</th>\n    </tr>\n    <tr>\n      <th>Age</th>\n      <th></th>\n      <th></th>\n    </tr>\n  </thead>\n  <tbody>\n    <tr>\n      <th>(0, 10]</th>\n      <td>0.612903</td>\n      <td>0.575758</td>\n    </tr>\n    <tr>\n      <th>(10, 20]</th>\n      <td>0.739130</td>\n      <td>0.144928</td>\n    </tr>\n    <tr>\n      <th>(20, 30]</th>\n      <td>0.753086</td>\n      <td>0.154362</td>\n    </tr>\n    <tr>\n      <th>(30, 40]</th>\n      <td>0.836364</td>\n      <td>0.230000</td>\n    </tr>\n    <tr>\n      <th>(40, 50]</th>\n      <td>0.677419</td>\n      <td>0.218182</td>\n    </tr>\n    <tr>\n      <th>(50, 60]</th>\n      <td>0.928571</td>\n      <td>0.142857</td>\n    </tr>\n    <tr>\n      <th>(60, 70]</th>\n      <td>1.000000</td>\n      <td>0.071429</td>\n    </tr>\n    <tr>\n      <th>(70, 80]</th>\n      <td>NaN</td>\n      <td>0.200000</td>\n    </tr>\n  </tbody>\n</table>\n</div>"
     },
     "metadata": {},
     "execution_count": 25
    }
   ],
   "source": [
    "pd.crosstab(pd.cut(data.Age, range(0, 100, 10)), data.Sex, values=data.Survived, aggfunc=np.mean)"
   ]
  },
  {
   "cell_type": "code",
   "execution_count": null,
   "metadata": {},
   "outputs": [],
   "source": []
  }
 ]
}