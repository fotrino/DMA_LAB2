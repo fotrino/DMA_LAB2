{
  "nbformat": 4,
  "nbformat_minor": 0,
  "metadata": {
    "language_info": {
      "codemirror_mode": {
        "name": "ipython",
        "version": 3
      },
      "file_extension": ".py",
      "mimetype": "text/x-python",
      "name": "python",
      "nbconvert_exporter": "python",
      "pygments_lexer": "ipython3",
      "version": "3.7.9-final"
    },
    "orig_nbformat": 2,
    "kernelspec": {
      "name": "python3",
      "display_name": "Python 3"
    },
    "colab": {
      "name": "03_manejo_de_datos-pandas.ipynb",
      "provenance": []
    }
  },
  "cells": [
    {
      "cell_type": "markdown",
      "metadata": {
        "id": "1j7KzW97m1lK"
      },
      "source": [
        "\n",
        "<a href=\"https://colab.research.google.com/github/Argentan/DMA_LAB2/blob/master/tutoriales/03_manejo_de_datos-pandas.ipynb\" target=\"_parent\"><img src=\"https://colab.research.google.com/assets/colab-badge.svg\" alt=\"Open In Colab\"/></a>\n"
      ]
    },
    {
      "cell_type": "markdown",
      "metadata": {
        "id": "3qVsN-3jm1lM"
      },
      "source": [
        "## Libreria Pandas\n",
        "\n",
        "Pandas es la libreria mas utilizada para la manipulación de datos, utiliza series y dataframes que son estrtucturas de datos columnares, de una o dos dimensiones"
      ]
    },
    {
      "cell_type": "code",
      "metadata": {
        "id": "jaBYZJdqm1lN"
      },
      "source": [
        "import pandas as pd"
      ],
      "execution_count": 1,
      "outputs": []
    },
    {
      "cell_type": "markdown",
      "metadata": {
        "id": "bdpRmw7Sm1lS"
      },
      "source": [
        "## Series\n",
        "\n",
        "Son columnas de datos con indices"
      ]
    },
    {
      "cell_type": "code",
      "metadata": {
        "id": "2sP_-5W7m1lT"
      },
      "source": [
        "obj = pd.Series([4, 7, -5, 3])\n",
        "obj"
      ],
      "execution_count": null,
      "outputs": []
    },
    {
      "cell_type": "code",
      "metadata": {
        "id": "PlM8HeDbm1lY"
      },
      "source": [
        "animales = ['Tortuga', 'Zorro', 'Paloma', 'Elefante', \"Zorro\"]\n",
        "tipo = ['reptil', 'mamífero', 'ave', 'mamífero', 'mamífero' ]\n",
        "obj = pd.Series(tipo, index=animales)\n",
        "obj"
      ],
      "execution_count": null,
      "outputs": []
    },
    {
      "cell_type": "code",
      "metadata": {
        "id": "3yteUcyPm1lb"
      },
      "source": [
        "animales = ['Tortuga', 'Zorro', 'Paloma', 'Elefante', \"Zorro\"]\n",
        "tipo = ['reptil', 'mamífero', 'ave', 'mamífero', 'mamífero' ]\n",
        "obj = pd.Series(tipo)\n",
        "obj.index = animales\n",
        "obj"
      ],
      "execution_count": null,
      "outputs": []
    },
    {
      "cell_type": "code",
      "metadata": {
        "id": "wrfsgUYCm1lf"
      },
      "source": [
        "obj[\"Tortuga\"]"
      ],
      "execution_count": null,
      "outputs": []
    },
    {
      "cell_type": "code",
      "metadata": {
        "id": "tdhPwO0Nm1lj"
      },
      "source": [
        "obj[0]"
      ],
      "execution_count": null,
      "outputs": []
    },
    {
      "cell_type": "code",
      "metadata": {
        "id": "z0HARN96m1ln"
      },
      "source": [
        "obj.sort_values()[0]"
      ],
      "execution_count": null,
      "outputs": []
    },
    {
      "cell_type": "code",
      "metadata": {
        "id": "YdIqZg3cm1ls"
      },
      "source": [
        "obj.sort_values()[\"Tortuga\"]"
      ],
      "execution_count": null,
      "outputs": []
    },
    {
      "cell_type": "markdown",
      "metadata": {
        "id": "QScH6Clcm1lv"
      },
      "source": [
        "## DataFrames\n",
        "\n",
        "Son estructuras de dos dimensiones, pueden pensarse como la contatenación horizontal de series. "
      ]
    },
    {
      "cell_type": "code",
      "metadata": {
        "id": "_6Q-2dZlm1lw"
      },
      "source": [
        "d = {'tipo_vivienda': ['casa', 'departamento'],\n",
        "     'm2': [125, 59],\n",
        "     'Barrio': ['San Martin', 'Florida'],\n",
        "     'Precio (kUSD)': [200, 130]\n",
        "    }\n",
        "df = pd.DataFrame(data=d, index=[\"casa1\", \"casa2\"])\n",
        "df"
      ],
      "execution_count": null,
      "outputs": []
    },
    {
      "cell_type": "markdown",
      "metadata": {
        "id": "TaH2dcsnm1l0"
      },
      "source": [
        "## Lectura de archivos de datos\n",
        "\n",
        "\n",
        "Pandas soporta la lectura de una amplia cantidad de formatos ([más info](http://pandas.pydata.org/pandas-docs/stable/io.html)): \n",
        "\n",
        "- read_csv\n",
        "- read_excel\n",
        "- read_hdf\n",
        "- read_sql\n",
        "- read_json\n",
        "- read_msgpack (experimental)\n",
        "- read_html\n",
        "- read_gbq (experimental)\n",
        "- read_stata\n",
        "- read_sas\n",
        "- read_clipboard\n",
        "- read_pickle\n",
        "\n",
        "Vamos a empezar a probar con una dataset publicado para una competencia de kaggle: [Titanic: Machine Learning from Disaster](https://www.kaggle.com/c/titanic/data)."
      ]
    },
    {
      "cell_type": "code",
      "metadata": {
        "id": "AMJMP_8jm1l4"
      },
      "source": [
        "data = pd.read_csv(\"https://raw.githubusercontent.com/Argentan/DMA_LAB2/master/data/titanic.csv\", index_col=\"PassengerId\")\n"
      ],
      "execution_count": null,
      "outputs": []
    },
    {
      "cell_type": "code",
      "metadata": {
        "id": "BQk6uUkAnT_z"
      },
      "source": [
        "data.head()"
      ],
      "execution_count": null,
      "outputs": []
    },
    {
      "cell_type": "code",
      "metadata": {
        "id": "BAFccORxm1mH"
      },
      "source": [
        "data.tail()"
      ],
      "execution_count": null,
      "outputs": []
    },
    {
      "cell_type": "code",
      "metadata": {
        "id": "O87wevx9m1mK"
      },
      "source": [
        "data.columns"
      ],
      "execution_count": null,
      "outputs": []
    },
    {
      "cell_type": "code",
      "metadata": {
        "id": "apqBCUDFm1mO"
      },
      "source": [
        "data.dtypes"
      ],
      "execution_count": null,
      "outputs": []
    },
    {
      "cell_type": "code",
      "metadata": {
        "tags": [],
        "id": "PJVLnVKQm1mR"
      },
      "source": [
        "data.info()"
      ],
      "execution_count": null,
      "outputs": []
    },
    {
      "cell_type": "code",
      "metadata": {
        "id": "Ek99MhnZm1mU"
      },
      "source": [
        "data.describe()"
      ],
      "execution_count": null,
      "outputs": []
    },
    {
      "cell_type": "code",
      "metadata": {
        "id": "nCdLTKhnm1mX"
      },
      "source": [
        "data.shape"
      ],
      "execution_count": null,
      "outputs": []
    },
    {
      "cell_type": "code",
      "metadata": {
        "id": "v9mCxV_1m1ma"
      },
      "source": [
        "data.size"
      ],
      "execution_count": null,
      "outputs": []
    },
    {
      "cell_type": "code",
      "metadata": {
        "id": "dtTFrArVm1me"
      },
      "source": [
        "data.Pclass"
      ],
      "execution_count": null,
      "outputs": []
    },
    {
      "cell_type": "code",
      "metadata": {
        "id": "AsSvSqiEm1mi"
      },
      "source": [
        "data.Pclass.unique()"
      ],
      "execution_count": null,
      "outputs": []
    },
    {
      "cell_type": "code",
      "metadata": {
        "id": "JAY9j6vSm1mm"
      },
      "source": [
        "data.Pclass.value_counts()"
      ],
      "execution_count": null,
      "outputs": []
    },
    {
      "cell_type": "code",
      "metadata": {
        "id": "V8BKOBBjm1mp"
      },
      "source": [
        "data.Pclass.nunique()"
      ],
      "execution_count": null,
      "outputs": []
    },
    {
      "cell_type": "markdown",
      "metadata": {
        "id": "DtLTIZ0vm1mr"
      },
      "source": [
        "## Tipos de Indexado\n",
        "\n",
        "Hay varias formas de seleccionar un subconjunto de los datos:\n",
        "\n",
        "- Como las listas o arrays, por posición.\n",
        "- Como los diccionarios, por llave o etiqueta.\n",
        "- Como los arrays, por máscaras de verdadero o falso.\n",
        "- Se puede indexar por número, rango o lista (array)\n",
        "- Todos estos métodos pueden funcionar subconjunto como en las columnas\n",
        "\n",
        "\n",
        "## Reglas Básicas\n",
        "\n",
        "1. Se usan corchetes (abreviatura para el método `__getitem__`) para seleccionar columnas de un `DataFrame`\n",
        "\n",
        "    ```python\n",
        "    >>> df[['a', 'b', 'c']]\n",
        "    ```\n",
        "\n",
        "2. Se usa `.iloc` para indexar por posición (tanto filas como columnas)\n",
        "\n",
        "    ```python\n",
        "    >>> df.iloc[[1, 3], [0, 2]]\n",
        "    ```\n",
        "    \n",
        "3. Se usa `.loc` para indexar por etiquetas (tanto filas como columnas)\n",
        "\n",
        "    ```python\n",
        "    >>> df.loc[[\"elemento1\", \"elemento2\", \"elemento3\"], [\"columna1\", \"columna2\"]]\n",
        "    ```"
      ]
    },
    {
      "cell_type": "code",
      "metadata": {
        "id": "1jZXhiXXm1ms"
      },
      "source": [
        "data.__getitem__(\"Name\") == data[\"Name\"]"
      ],
      "execution_count": null,
      "outputs": []
    },
    {
      "cell_type": "code",
      "metadata": {
        "id": "h1EyPq1Xm1mw"
      },
      "source": [
        "data[\"Name\"]"
      ],
      "execution_count": null,
      "outputs": []
    },
    {
      "cell_type": "code",
      "metadata": {
        "id": "ONM_XsW_m1m1"
      },
      "source": [
        "data.loc[[1], [\"Name\", \"Sex\"]]"
      ],
      "execution_count": null,
      "outputs": []
    },
    {
      "cell_type": "code",
      "metadata": {
        "id": "eSgiiVSem1m4"
      },
      "source": [
        "data.loc[[1, 2, 3]]"
      ],
      "execution_count": null,
      "outputs": []
    },
    {
      "cell_type": "code",
      "metadata": {
        "id": "FfNGrI--m1m7"
      },
      "source": [
        "data.loc[[1, 2, 3], \"Name\"]"
      ],
      "execution_count": null,
      "outputs": []
    },
    {
      "cell_type": "code",
      "metadata": {
        "id": "s95l6VZVm1m-"
      },
      "source": [
        "data.loc[1, \"Survived\"]"
      ],
      "execution_count": null,
      "outputs": []
    },
    {
      "cell_type": "code",
      "metadata": {
        "id": "o7wXe5X0m1nD"
      },
      "source": [
        "temp = data.loc[:, [\"Name\", \"Sex\"]]\n",
        "temp.loc[1, \"Name\"] = \"Rafa\"\n",
        "temp"
      ],
      "execution_count": null,
      "outputs": []
    },
    {
      "cell_type": "code",
      "metadata": {
        "id": "UbNEzQUkm1nH"
      },
      "source": [
        "data.loc[1, \"Name\"], temp.loc[1, \"Name\"]"
      ],
      "execution_count": null,
      "outputs": []
    },
    {
      "cell_type": "code",
      "metadata": {
        "id": "vwJ3piqnm1nK"
      },
      "source": [
        "temp = data.copy()\n",
        "temp.index = [\"pasajero_nro_\" + str(i) for i in temp.index]\n",
        "temp.index.name =data.index.name\n",
        "temp\n"
      ],
      "execution_count": null,
      "outputs": []
    },
    {
      "cell_type": "code",
      "metadata": {
        "id": "6F7XQSYjm1nN"
      },
      "source": [
        "data.loc[1]"
      ],
      "execution_count": null,
      "outputs": []
    },
    {
      "cell_type": "code",
      "metadata": {
        "id": "-61DVWOim1nQ"
      },
      "source": [
        "data.loc[\"1\"]"
      ],
      "execution_count": null,
      "outputs": []
    },
    {
      "cell_type": "code",
      "metadata": {
        "id": "A0c6MRsJm1nY"
      },
      "source": [
        "temp.loc[[\"pasajero_nro_1\", \"pasajero_nro_2\", \"pasajero_nro_3\"], [\"Name\", \"Sex\"]]"
      ],
      "execution_count": null,
      "outputs": []
    },
    {
      "cell_type": "code",
      "metadata": {
        "id": "2vngFseqm1nc"
      },
      "source": [
        "temp.iloc[[1, 2, 3], [2, 3]]"
      ],
      "execution_count": null,
      "outputs": []
    },
    {
      "cell_type": "code",
      "metadata": {
        "id": "KwrnUZmhm1ng"
      },
      "source": [
        "del temp"
      ],
      "execution_count": null,
      "outputs": []
    },
    {
      "cell_type": "code",
      "metadata": {
        "id": "MmkIceXBm1nj"
      },
      "source": [
        "data.loc[:3, :\"Sex\"]"
      ],
      "execution_count": null,
      "outputs": []
    },
    {
      "cell_type": "code",
      "metadata": {
        "id": "TZfHm5d4m1nn"
      },
      "source": [
        "data.sort_values(\"Name\").loc[:3]"
      ],
      "execution_count": null,
      "outputs": []
    },
    {
      "cell_type": "markdown",
      "metadata": {
        "id": "CG1A9N19m1nu"
      },
      "source": [
        "## Calculo de columnas nuevas"
      ]
    },
    {
      "cell_type": "code",
      "metadata": {
        "id": "RRPiRjXQm1nv"
      },
      "source": [
        "temp = data[[\"Name\"]].copy()\n",
        "temp.OtroNombre = [\"OTRO_\" + n for n in data.Name]\n",
        "temp"
      ],
      "execution_count": null,
      "outputs": []
    },
    {
      "cell_type": "code",
      "metadata": {
        "id": "IBxV5UFvm1n0"
      },
      "source": [
        "temp.OtroNombre[:10]"
      ],
      "execution_count": null,
      "outputs": []
    },
    {
      "cell_type": "code",
      "metadata": {
        "id": "XFCZOJUcm1n4"
      },
      "source": [
        "temp[\"OtroNombre\"] = [\"OTRO_\" + n for n in data.Name]\n",
        "temp"
      ],
      "execution_count": null,
      "outputs": []
    },
    {
      "cell_type": "code",
      "metadata": {
        "id": "pYYiAfmsm1n9"
      },
      "source": [
        "del temp"
      ],
      "execution_count": null,
      "outputs": []
    },
    {
      "cell_type": "markdown",
      "metadata": {
        "id": "P3sx_B2om1oA"
      },
      "source": [
        "## Filtrado"
      ]
    },
    {
      "cell_type": "code",
      "metadata": {
        "id": "bcL7PKpcm1oB"
      },
      "source": [
        "data[\"SibSp\"] > 0"
      ],
      "execution_count": null,
      "outputs": []
    },
    {
      "cell_type": "code",
      "metadata": {
        "id": "zjinVufgm1oF"
      },
      "source": [
        "data[data[\"Age\"] > 18]"
      ],
      "execution_count": null,
      "outputs": []
    },
    {
      "cell_type": "code",
      "metadata": {
        "id": "2GtmdyEkm1oL"
      },
      "source": [
        "data.select_dtypes(\"float\")"
      ],
      "execution_count": null,
      "outputs": []
    },
    {
      "cell_type": "markdown",
      "metadata": {
        "id": "_0tCH73-m1oP"
      },
      "source": [
        "### Funciones comunes\n",
        "\n",
        "Pandas ya viene con una cantidad de funciones incorporadas, por ejemplo:\n",
        "\n",
        "* sum\n",
        "* mean\n",
        "* std\n",
        "* var\n",
        "* cumsum\n",
        "* value_counts()"
      ]
    },
    {
      "cell_type": "code",
      "metadata": {
        "id": "jwMjny0Dm1oQ"
      },
      "source": [
        "data.Age.mean()"
      ],
      "execution_count": null,
      "outputs": []
    },
    {
      "cell_type": "code",
      "metadata": {
        "id": "YMWE_8G8m1oT"
      },
      "source": [
        "data.mean()"
      ],
      "execution_count": null,
      "outputs": []
    },
    {
      "cell_type": "code",
      "metadata": {
        "id": "lFMh-q23m1oZ"
      },
      "source": [
        "data.sum()"
      ],
      "execution_count": null,
      "outputs": []
    },
    {
      "cell_type": "code",
      "metadata": {
        "id": "dA6ROsAam1od"
      },
      "source": [
        "data.select_dtypes(\"float\").sum(axis=1)"
      ],
      "execution_count": null,
      "outputs": []
    },
    {
      "cell_type": "code",
      "metadata": {
        "id": "7HbQ5t1Dm1ol"
      },
      "source": [
        "data.Age.cumsum()"
      ],
      "execution_count": null,
      "outputs": []
    },
    {
      "cell_type": "code",
      "metadata": {
        "id": "J6ZN1rB8m1op"
      },
      "source": [
        "data.isnull().sum()"
      ],
      "execution_count": null,
      "outputs": []
    },
    {
      "cell_type": "code",
      "metadata": {
        "id": "PU_G_vYym1ot"
      },
      "source": [
        "data.Survived.value_counts()"
      ],
      "execution_count": null,
      "outputs": []
    },
    {
      "cell_type": "code",
      "metadata": {
        "id": "xc2ZDqBOm1ox"
      },
      "source": [
        "data.Survived.value_counts(True)"
      ],
      "execution_count": null,
      "outputs": []
    },
    {
      "cell_type": "code",
      "metadata": {
        "id": "O3M3yk7Tm1o3"
      },
      "source": [
        "data.Survived.value_counts(1)"
      ],
      "execution_count": null,
      "outputs": []
    },
    {
      "cell_type": "markdown",
      "metadata": {
        "id": "bKo-ChgDm1o6"
      },
      "source": [
        "### Ejercicio\n",
        "\n",
        "1. Mostrar las primeras 16 files de data"
      ]
    },
    {
      "cell_type": "code",
      "metadata": {
        "id": "3c2Od9Fxm1o6"
      },
      "source": [
        ""
      ],
      "execution_count": null,
      "outputs": []
    },
    {
      "cell_type": "markdown",
      "metadata": {
        "id": "7pNAfWpAoXeX"
      },
      "source": [
        "\n",
        "2. ¿Cómo se llama el pasajero 881?"
      ]
    },
    {
      "cell_type": "code",
      "metadata": {
        "id": "3bAaTFjToioO"
      },
      "source": [
        ""
      ],
      "execution_count": null,
      "outputs": []
    },
    {
      "cell_type": "markdown",
      "metadata": {
        "id": "kAZZ6E-0oW8R"
      },
      "source": [
        "\n",
        "3. Calcular una columna numFam que sea la suma de la cantidad de familiares en el barco"
      ]
    },
    {
      "cell_type": "code",
      "metadata": {
        "id": "Xptd2FSmqPyx"
      },
      "source": [
        ""
      ],
      "execution_count": null,
      "outputs": []
    },
    {
      "cell_type": "markdown",
      "metadata": {
        "id": "33OfNxwfoWLZ"
      },
      "source": [
        "\n",
        "4. Encontrar la edad media de los sobrevivientes"
      ]
    },
    {
      "cell_type": "code",
      "metadata": {
        "id": "sRmxb_i1ojZ3"
      },
      "source": [
        ""
      ],
      "execution_count": null,
      "outputs": []
    }
  ]
}